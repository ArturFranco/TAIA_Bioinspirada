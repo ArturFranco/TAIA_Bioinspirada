{
 "cells": [
  {
   "cell_type": "code",
   "execution_count": 1,
   "metadata": {
    "collapsed": true
   },
   "outputs": [],
   "source": [
    "import numpy as np\n",
    "import pandas as pd"
   ]
  },
  {
   "cell_type": "code",
   "execution_count": 12,
   "metadata": {
    "collapsed": false
   },
   "outputs": [],
   "source": [
    "alimentos = pd.read_csv('BDdefaultAlimentos.csv', sep=';')\n",
    "alimentos = alimentos[['alimento', 'kcal', 'proteina', 'lipideos', 'carboidrato', 'fibras']]\n",
    "alimentos.to_csv('alimentos.csv', sep=';')"
   ]
  },
  {
   "cell_type": "code",
   "execution_count": 15,
   "metadata": {
    "collapsed": false
   },
   "outputs": [
    {
     "data": {
      "text/html": [
       "<div>\n",
       "<table border=\"1\" class=\"dataframe\">\n",
       "  <thead>\n",
       "    <tr style=\"text-align: right;\">\n",
       "      <th></th>\n",
       "      <th>alimento</th>\n",
       "      <th>kcal</th>\n",
       "      <th>proteina</th>\n",
       "      <th>lipideos</th>\n",
       "      <th>carboidrato</th>\n",
       "      <th>fibras</th>\n",
       "    </tr>\n",
       "  </thead>\n",
       "  <tbody>\n",
       "    <tr>\n",
       "      <th>0</th>\n",
       "      <td>ARROZ INTEGRAL COZIDO</td>\n",
       "      <td>124.0</td>\n",
       "      <td>2.6</td>\n",
       "      <td>1.0</td>\n",
       "      <td>25.8</td>\n",
       "      <td>2.7</td>\n",
       "    </tr>\n",
       "    <tr>\n",
       "      <th>1</th>\n",
       "      <td>ARROZ INTEGRAL CRU</td>\n",
       "      <td>360.0</td>\n",
       "      <td>7.3</td>\n",
       "      <td>1.9</td>\n",
       "      <td>77.5</td>\n",
       "      <td>4.8</td>\n",
       "    </tr>\n",
       "    <tr>\n",
       "      <th>2</th>\n",
       "      <td>ARROZ TIPO 1 COZIDO</td>\n",
       "      <td>128.0</td>\n",
       "      <td>2.5</td>\n",
       "      <td>0.2</td>\n",
       "      <td>28.1</td>\n",
       "      <td>1.6</td>\n",
       "    </tr>\n",
       "    <tr>\n",
       "      <th>3</th>\n",
       "      <td>ARROZ TIPO 1 CRU</td>\n",
       "      <td>358.0</td>\n",
       "      <td>7.2</td>\n",
       "      <td>0.3</td>\n",
       "      <td>78.8</td>\n",
       "      <td>1.6</td>\n",
       "    </tr>\n",
       "    <tr>\n",
       "      <th>4</th>\n",
       "      <td>ARROZ TIPO 2 COZIDO</td>\n",
       "      <td>130.0</td>\n",
       "      <td>2.6</td>\n",
       "      <td>0.4</td>\n",
       "      <td>28.2</td>\n",
       "      <td>1.1</td>\n",
       "    </tr>\n",
       "  </tbody>\n",
       "</table>\n",
       "</div>"
      ],
      "text/plain": [
       "                alimento   kcal  proteina  lipideos  carboidrato  fibras\n",
       "0  ARROZ INTEGRAL COZIDO  124.0       2.6       1.0         25.8     2.7\n",
       "1     ARROZ INTEGRAL CRU  360.0       7.3       1.9         77.5     4.8\n",
       "2    ARROZ TIPO 1 COZIDO  128.0       2.5       0.2         28.1     1.6\n",
       "3       ARROZ TIPO 1 CRU  358.0       7.2       0.3         78.8     1.6\n",
       "4    ARROZ TIPO 2 COZIDO  130.0       2.6       0.4         28.2     1.1"
      ]
     },
     "execution_count": 15,
     "metadata": {},
     "output_type": "execute_result"
    }
   ],
   "source": [
    "alimentos = pd.read_csv('alimentos.csv', sep=';')\n",
    "del alimentos['Unnamed: 0']\n",
    "alimentos.head()"
   ]
  },
  {
   "cell_type": "code",
   "execution_count": null,
   "metadata": {
    "collapsed": true
   },
   "outputs": [],
   "source": [
    "import random\n",
    "import time\n",
    "\n",
    "Kcal = 600\n",
    "rateProt = 0.3\n",
    "rateCarb = 0.4\n",
    "rateLip = 0.25\n",
    "rateFib = 0.05\n",
    "\n",
    "fProt = (Kcal*rateProt)\n",
    "fCarb = (Kcal*rateCarb)\n",
    "fLip = (Kcal*rateLip)\n",
    "fFib = (Kcal*rateFib)\n",
    "\n",
    "def prot(df,qtd):\n",
    "    return (qtd/100.0)*df.iloc[0][3]\n",
    "\n",
    "def carb(df,qtd):\n",
    "    return (qtd/100.0)*df.iloc[0][6]\n",
    "\n",
    "def lip(df,qtd):\n",
    "        return (qtd/100.0)*df.iloc[0][4]\n",
    "\n",
    "def fib(df,qtd):\n",
    "    return (qtd/100.0)*df.iloc[0][7]\n",
    "\n",
    "#recebe um vetor de tuplas do tipo [(alimento,qtd)]\n",
    "#ex: [(arroz,80),(feijao,100)]\n",
    "def fitness(refeicao):\n",
    "    somProt = 0\n",
    "    somCarb = 0\n",
    "    somLip = 0\n",
    "    somFib = 0\n",
    "    for alimento in refeicao:\n",
    "        aux = alimentos[alimentos.alimento == alimento[0]]\n",
    "        somProt += prot(aux,alimento[1])\n",
    "        somCarb += carb(aux,alimento[1])\n",
    "        somLip += lip(aux,alimento[1])\n",
    "        somFib += fib(aux,alimento[1])\n",
    "    somProt *= 4\n",
    "    somCarb *= 4\n",
    "    somLip *= 9\n",
    "    somFib *= 4\n",
    "\n",
    "    if (somProt > fProt or somCarb > fCarb or somLip > fLip or somFib > fFib):\n",
    "        return 0\n",
    "\n",
    "    return (somProt/fProt + somCarb/fCarb + somLip/fLip + somFib/fFib)/4.0\n",
    "\n",
    "\n",
    "if __name__ == '__main__':\n",
    "\n",
    "    refeicao = [('BATATA DOCE COZIDA',100),('FRANGO PEITO SEM PELE GRELHADO',200)]\n",
    "    #refeicao = [('TESTE1',100),('TESTE2',100)]\n",
    "    print(fitness(refeicao))"
   ]
  }
 ],
 "metadata": {
  "kernelspec": {
   "display_name": "Python 3",
   "language": "python",
   "name": "python3"
  },
  "language_info": {
   "codemirror_mode": {
    "name": "ipython",
    "version": 3
   },
   "file_extension": ".py",
   "mimetype": "text/x-python",
   "name": "python",
   "nbconvert_exporter": "python",
   "pygments_lexer": "ipython3",
   "version": "3.5.2"
  }
 },
 "nbformat": 4,
 "nbformat_minor": 2
}
